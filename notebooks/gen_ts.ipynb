{
 "cells": [
  {
   "cell_type": "code",
   "execution_count": 9,
   "id": "b30b6e27-ede3-4e41-86a7-dbfb4b700a5a",
   "metadata": {},
   "outputs": [],
   "source": [
    "import numpy as np\n",
    "import pandas as pd\n",
    "import random\n",
    "\n",
    "random.seed(42)\n",
    "np.random.seed(42)"
   ]
  },
  {
   "cell_type": "code",
   "execution_count": 226,
   "id": "319428d0-991c-41e6-8b33-565e0bdd47a4",
   "metadata": {},
   "outputs": [],
   "source": [
    "def make_ts(output_len, state_change, percent_talking=1.0, noise_level=0):\n",
    "    assert state_change.ndim == 2, \"state_change have more than 2 dims\"\n",
    "    assert state_change.shape[0] == state_change.shape[1], \"state_change is not square\"\n",
    "    assert all([sum(x) == 1 for x in state_change]), \"All rows do not sum to 1\"\n",
    "    assert percent_talking >= 0.0 and percent_talking <= 1.0, \"percent_talking is not a probability\"\n",
    "    \n",
    "    state = 0\n",
    "    choices = state_change.shape[0]\n",
    "    ts = np.random.rand(choices, output_len) * noise_level\n",
    "    all_clean = np.random.rand(output_len) * 0.001\n",
    "    \n",
    "    for i in range(output_len):\n",
    "        state = np.random.choice(choices, p=state_change[state])\n",
    "        if random.random() <= percent_talking:\n",
    "            ts[state][i] = 1\n",
    "            all_clean[i] = 1\n",
    "    return ts, all_clean, ts.sum(axis=0)\n",
    "\n",
    "splits, all_clean, all_raw = make_ts(100_000, np.array([[0.5, 0.5],[0.5,0.5]]), percent_talking= .99, noise_level=10)"
   ]
  },
  {
   "cell_type": "code",
   "execution_count": 227,
   "id": "f09739be-56ce-4eb6-b817-92ceb86e7255",
   "metadata": {},
   "outputs": [],
   "source": [
    "import statsmodels.api as sm\n",
    "\n",
    "\n",
    "# https://www.datainsightonline.com/post/cross-correlation-with-two-time-series-in-python\n",
    "# from scipy import signal\n",
    "def ccf_values(series1, series2):\n",
    "    p = series1\n",
    "    q = series2\n",
    "    p = (p - np.mean(p)) / (np.std(p) * len(p))\n",
    "    q = (q - np.mean(q)) / (np.std(q))\n",
    "    c = np.correlate(p, q, 'full')\n",
    "    return c\n",
    "\n",
    "\n",
    "def ccf_calc(sig1, sig2):\n",
    "    corr = sm.tsa.stattools.ccf(sig2, sig1, adjusted=False, fft=True)\n",
    "\n",
    "    # Remove padding and reverse the order\n",
    "    #print(corr)\n",
    "    return corr[0:(len(sig2)+1)]#[::-1]\n",
    "\n",
    "\n",
    "def cross_cor(ts1, ts2, debug=False, max_offset=300, only_positive=True):\n",
    "    ccf = ccf_calc(ts1, ts2)\n",
    "    #print(ccf)\n",
    "    best_cor = max(ccf)\n",
    "    best_lag = np.argmax(ccf)\n",
    "\n",
    "    if debug:\n",
    "        print('best cross correlation: ' + str(best_cor) + \" at time lag: \" + str(best_lag))\n",
    "        print(len(ccf))\n",
    "        print(ccf)\n",
    "        ccf_plot(range(len(ccf)), ccf)\n",
    "    return best_cor, best_lag"
   ]
  },
  {
   "cell_type": "code",
   "execution_count": 228,
   "id": "65da16c8-d1ca-43c1-b728-2bae2cbb93d0",
   "metadata": {},
   "outputs": [
    {
     "name": "stdout",
     "output_type": "stream",
     "text": [
      "(np.float64(0.013217086103072598), np.int64(3625))\n",
      "(np.float64(0.01144250901790135), np.int64(4439))\n",
      "(np.float64(0.011575890117305336), np.int64(17773))\n"
     ]
    }
   ],
   "source": [
    "print(cross_cor(all_raw, all_clean))\n",
    "print(cross_cor(splits[0], all_clean))\n",
    "print(cross_cor(splits[1], all_clean))"
   ]
  },
  {
   "cell_type": "code",
   "execution_count": null,
   "id": "b9426b6a-bfc9-431e-abc3-88f638367b2a",
   "metadata": {},
   "outputs": [],
   "source": []
  }
 ],
 "metadata": {
  "kernelspec": {
   "display_name": "Python 3 (ipykernel)",
   "language": "python",
   "name": "python3"
  },
  "language_info": {
   "codemirror_mode": {
    "name": "ipython",
    "version": 3
   },
   "file_extension": ".py",
   "mimetype": "text/x-python",
   "name": "python",
   "nbconvert_exporter": "python",
   "pygments_lexer": "ipython3",
   "version": "3.11.9"
  }
 },
 "nbformat": 4,
 "nbformat_minor": 5
}
